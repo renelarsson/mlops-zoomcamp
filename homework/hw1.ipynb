{
 "cells": [
  {
   "cell_type": "code",
   "execution_count": 18,
   "id": "b2bd82d7",
   "metadata": {},
   "outputs": [
    {
     "name": "stdout",
     "output_type": "stream",
     "text": [
      "Python 3.9.21\n"
     ]
    }
   ],
   "source": [
    "!python -V"
   ]
  },
  {
   "cell_type": "code",
   "execution_count": 19,
   "id": "41062d8a",
   "metadata": {},
   "outputs": [],
   "source": [
    "import pandas as pd"
   ]
  },
  {
   "cell_type": "code",
   "execution_count": 20,
   "id": "c984c564",
   "metadata": {},
   "outputs": [],
   "source": [
    "import pickle"
   ]
  },
  {
   "cell_type": "code",
   "execution_count": 21,
   "id": "4add538c",
   "metadata": {},
   "outputs": [],
   "source": [
    "import seaborn as sns\n",
    "import matplotlib.pyplot as plt"
   ]
  },
  {
   "cell_type": "code",
   "execution_count": 22,
   "id": "8b135c2b",
   "metadata": {},
   "outputs": [],
   "source": [
    "from sklearn.feature_extraction import DictVectorizer\n",
    "from sklearn.linear_model import LinearRegression\n",
    "from sklearn.linear_model import Lasso\n",
    "from sklearn.linear_model import Ridge\n",
    "\n",
    "from sklearn.metrics import root_mean_squared_error"
   ]
  },
  {
   "cell_type": "markdown",
   "id": "e78a0715",
   "metadata": {},
   "source": [
    "Q1. Downloading the data\n",
    "We'll use the same NYC taxi dataset, but instead of \"Green Taxi Trip Records\", we'll use \"Yellow Taxi Trip Records\".\n",
    "Download the data for January and February 2023.\n",
    "Read the data for January. How many columns are there?"
   ]
  },
  {
   "cell_type": "code",
   "execution_count": 23,
   "id": "8e013caf",
   "metadata": {},
   "outputs": [],
   "source": [
    "df = pd.read_parquet('./data/yellow_tripdata_2023-01.parquet')"
   ]
  },
  {
   "cell_type": "code",
   "execution_count": 24,
   "id": "443c4820",
   "metadata": {},
   "outputs": [
    {
     "data": {
      "text/plain": [
       "19"
      ]
     },
     "execution_count": 24,
     "metadata": {},
     "output_type": "execute_result"
    }
   ],
   "source": [
    "len(df.columns)"
   ]
  },
  {
   "cell_type": "markdown",
   "id": "5d002bc5",
   "metadata": {},
   "source": [
    "Q2. Computing duration\n",
    "Now let's compute the duration variable. It should contain the duration of a ride in minutes.\n",
    "What's the standard deviation of the trips duration in January?"
   ]
  },
  {
   "cell_type": "code",
   "execution_count": null,
   "id": "14722dbc",
   "metadata": {},
   "outputs": [],
   "source": [
    "\n",
    "df['duration'] = df.tpep_dropoff_datetime - df.tpep_pickup_datetime # calculate duration\n",
    "df.duration = df.duration.apply(lambda td: td.total_seconds() / 60) # convert to minutes"
   ]
  },
  {
   "cell_type": "code",
   "execution_count": 26,
   "id": "84a386ee",
   "metadata": {},
   "outputs": [
    {
     "data": {
      "text/plain": [
       "np.float64(42.59435124195458)"
      ]
     },
     "execution_count": 26,
     "metadata": {},
     "output_type": "execute_result"
    }
   ],
   "source": [
    "df.duration.std() # Get the standard deviation of duration"
   ]
  },
  {
   "cell_type": "markdown",
   "id": "1e4c427c",
   "metadata": {},
   "source": [
    "Q3. Dropping outliers\n",
    "Next, we need to check the distribution of the duration variable. There are some outliers. Let's remove them and keep only the records where the duration was between 1 and 60 minutes (inclusive).\n",
    "What fraction of the records left after you dropped the outliers?"
   ]
  },
  {
   "cell_type": "code",
   "execution_count": 27,
   "id": "d4e6a9cc",
   "metadata": {},
   "outputs": [],
   "source": [
    "ol = df[(df.duration >= 1) & (df.duration <= 60)].copy() # filter outliers"
   ]
  },
  {
   "cell_type": "code",
   "execution_count": 28,
   "id": "17cd5163",
   "metadata": {},
   "outputs": [
    {
     "data": {
      "text/plain": [
       "98.1220282212598"
      ]
     },
     "execution_count": 28,
     "metadata": {},
     "output_type": "execute_result"
    }
   ],
   "source": [
    "len(ol) / len(df) * 100 # Get fraction of the records left"
   ]
  },
  {
   "cell_type": "markdown",
   "id": "4353f9e7",
   "metadata": {},
   "source": [
    "Q4. One-hot encoding\n",
    "Let's apply one-hot encoding to the pickup and dropoff location IDs. We'll use only these two features for our model.\n",
    "Turn the dataframe into a list of dictionaries (remember to re-cast the ids to strings - otherwise it will label encode them)\n",
    "Fit a dictionary vectorizer\n",
    "Get a feature matrix from it\n",
    "What's the dimensionality of this matrix (number of columns)?"
   ]
  },
  {
   "cell_type": "code",
   "execution_count": 30,
   "id": "79f5fbc3",
   "metadata": {},
   "outputs": [],
   "source": [
    "df = ol.copy() # Remove outliers"
   ]
  },
  {
   "cell_type": "code",
   "execution_count": null,
   "id": "bb6f83bb",
   "metadata": {},
   "outputs": [],
   "source": [
    "categorical = ['PULocationID', 'DOLocationID'] # Categorical features\n",
    "df[categorical] = df[categorical].astype(str) # Add new column as string type\n",
    "train_dicts = df[categorical].to_dict(orient='records') # Convert to dicts\n",
    "\n",
    "dv = DictVectorizer() # Create DictVectorizer\n",
    "X_train = dv.fit_transform(train_dicts) # Fit the DictVectorizer to the training data"
   ]
  },
  {
   "cell_type": "code",
   "execution_count": 35,
   "id": "c291da95",
   "metadata": {},
   "outputs": [
    {
     "data": {
      "text/plain": [
       "(3009173, 515)"
      ]
     },
     "execution_count": 35,
     "metadata": {},
     "output_type": "execute_result"
    }
   ],
   "source": [
    "X_train.shape # Count the number of features in the training data"
   ]
  },
  {
   "cell_type": "markdown",
   "id": "07bf3019",
   "metadata": {},
   "source": [
    "Q5. Training a model\n",
    "Now let's use the feature matrix from the previous step to train a model.\n",
    "Train a plain linear regression model with default parameters, where duration is the response variable\n",
    "Calculate the RMSE of the model on the training data\n",
    "What's the RMSE on train?"
   ]
  },
  {
   "cell_type": "code",
   "execution_count": 42,
   "id": "38311c67",
   "metadata": {},
   "outputs": [],
   "source": [
    "target = 'duration'\n",
    "y_train = df[target].values # Get the target variable"
   ]
  },
  {
   "cell_type": "code",
   "execution_count": 43,
   "id": "46db7861",
   "metadata": {},
   "outputs": [
    {
     "data": {
      "text/plain": [
       "7.649261934377987"
      ]
     },
     "execution_count": 43,
     "metadata": {},
     "output_type": "execute_result"
    }
   ],
   "source": [
    "lr = LinearRegression() # Create Linear Regression model\n",
    "lr.fit(X_train, y_train) # Fit the model to the training data\n",
    "\n",
    "y_pred = lr.predict(X_train) # Make predictions on the training data\n",
    "\n",
    "root_mean_squared_error(y_train, y_pred) # Calculate RMSE on the training data"
   ]
  },
  {
   "cell_type": "markdown",
   "id": "f248f03d",
   "metadata": {},
   "source": [
    "Q6. Evaluating the model\n",
    "Now let's apply this model to the validation dataset (February 2023).\n",
    "What's the RMSE on validation?"
   ]
  },
  {
   "cell_type": "code",
   "execution_count": 46,
   "id": "2584e3ce",
   "metadata": {},
   "outputs": [],
   "source": [
    "def read_data(filename): # Function to read data\n",
    "    df = pd.read_parquet(filename)\n",
    "\n",
    "    df['duration'] = df.tpep_dropoff_datetime - df.tpep_pickup_datetime # calculate duration\n",
    "    df.duration = df.duration.apply(lambda td: td.total_seconds() / 60) # convert to minutes\n",
    "\n",
    "    df = df[(df.duration >= 1) & (df.duration <= 60)].copy() # Remove outliers\n",
    "\n",
    "    df[categorical] = df[categorical].astype('str') # Convert to string\n",
    "    \n",
    "    return df"
   ]
  },
  {
   "cell_type": "code",
   "execution_count": 47,
   "id": "f790952e",
   "metadata": {},
   "outputs": [],
   "source": [
    "df_val = read_data('./data/yellow_tripdata_2023-02.parquet') # Read validation data\n",
    "val_dicts = df_val[categorical].to_dict(orient='records') # Convert to dicts\n",
    "\n",
    "X_val = dv.transform(val_dicts) # Transform validation data\n",
    "y_val = df_val.duration.values # Get the target variable\n",
    "\n",
    "y_pred = lr.predict(X_val) # Make predictions on the validation data"
   ]
  },
  {
   "cell_type": "code",
   "execution_count": 49,
   "id": "40dcd4e4",
   "metadata": {},
   "outputs": [
    {
     "data": {
      "text/plain": [
       "7.8118183996272"
      ]
     },
     "execution_count": 49,
     "metadata": {},
     "output_type": "execute_result"
    }
   ],
   "source": [
    "root_mean_squared_error(y_val, y_pred) # Calculate RMSE on the validation data"
   ]
  }
 ],
 "metadata": {
  "kernelspec": {
   "display_name": "exp-tracking-env",
   "language": "python",
   "name": "python3"
  },
  "language_info": {
   "codemirror_mode": {
    "name": "ipython",
    "version": 3
   },
   "file_extension": ".py",
   "mimetype": "text/x-python",
   "name": "python",
   "nbconvert_exporter": "python",
   "pygments_lexer": "ipython3",
   "version": "3.9.21"
  }
 },
 "nbformat": 4,
 "nbformat_minor": 5
}
